{
 "cells": [
  {
   "cell_type": "code",
   "execution_count": 178,
   "metadata": {},
   "outputs": [],
   "source": [
    "import pandas\n",
    "import numpy as np\n",
    "\n",
    "\n"
   ]
  },
  {
   "cell_type": "code",
   "execution_count": 188,
   "metadata": {},
   "outputs": [],
   "source": [
    "# Inicializando as matrizes com os valores do sistema \n",
    "\n",
    "# entrada dos valores\n",
    "\n",
    "#             x1 x2 x3               x1 x2 x3           x1 x2 x3\n",
    "A = np.array([[5.0, 1.0, 1.0],[3.0,4.0,1.0],[3.0, 3.0, 6.0]])\n",
    "\n",
    "# vrasultados da soma   x1+x2+x3 =\n",
    "b = np.array([5.0,6.0,0])\n",
    "\n",
    "# assumindo que X = 0\n",
    "\n",
    "x0 = np.array([0, 0, 0])\n",
    "\n",
    "\n",
    "# numero de interacoes \n",
    "\n",
    "num_inter = 15\n"
   ]
  },
  {
   "cell_type": "code",
   "execution_count": 189,
   "metadata": {},
   "outputs": [
    {
     "name": "stdout",
     "output_type": "stream",
     "text": [
      "coeficiente da matriz:\n",
      " [[5. 1. 1.]\n",
      " [3. 4. 1.]\n",
      " [3. 3. 6.]]\n",
      "constante do vetor:\n",
      " [5. 6. 0.]\n"
     ]
    }
   ],
   "source": [
    "print(\"coeficiente da matriz:\\n\", A)\n",
    "print(\"constante do vetor:\\n\", b)\n",
    "\n"
   ]
  },
  {
   "cell_type": "code",
   "execution_count": 193,
   "metadata": {},
   "outputs": [
    {
     "name": "stdout",
     "output_type": "stream",
     "text": [
      "Iteration 1 : [1.0, 1.5, 0.0]\n",
      "Iteration 2 : [0.7, 0.75, -1.25]\n",
      "Iteration 3 : [1.1, 1.2875, -0.725]\n",
      "Iteration 4 : [0.8875, 0.85625, -1.19375]\n",
      "Iteration 5 : [1.0675, 1.1328125, -0.871875]\n",
      "Iteration 6 : [0.9478125, 0.91734375, -1.10015625]\n",
      "Iteration 7 : [1.0365625, 1.06417969, -0.93257812]\n",
      "Iteration 8 : [0.97367969, 0.95572266, -1.05037109]\n",
      "Iteration 9 : [1.01892969, 1.03233301, -0.96470117]\n",
      "Iteration 10 : [0.98647363, 0.97697803, -1.02563135]\n",
      "Iteration 11 : [1.00973066, 1.01655261, -0.98172583]\n",
      "Iteration 12 : [0.99303464, 0.98813346, -1.01314164]\n",
      "Iteration 13 : [1.00500164, 1.00850943, -0.99058405]\n",
      "Iteration 14 : [0.99641492, 0.99389479, -1.00675553]\n",
      "Iteration 15 : [1.00257215, 1.00437769, -0.99515486]\n",
      " Resultado: X1 = 1.0025721490478516 , X2 = 1.0043776891326905 , X3 = -0.9951548554992676 \n",
      " numero de interações realisadas : 15 \n"
     ]
    }
   ],
   "source": [
    "n = len(A)\n",
    "\n",
    "x = x0.copy().astype(float)\n",
    "A = A.astype(float)\n",
    "b = b.astype(float)\n",
    "for k in range(num_inter):\n",
    "    x_old = x.copy()\n",
    "    \n",
    "    for i in range(n):\n",
    "        s = 0\n",
    "        for j in range(n):\n",
    "            if j != i:\n",
    "                s += A[i][j] * x_old[j]\n",
    "        x[i] = (b[i] - s) / A[i][i]\n",
    "    \n",
    "\n",
    "    print(\"Iteration\", k+1, \":\", [round(num, 8) for num in x])\n",
    "\n",
    "\n",
    "print(f' Resultado: X1 = {x[0]} , X2 = {x[1]} , X3 = {x[2]} \\n numero de interações realisadas : {k+1} ')\n"
   ]
  }
 ],
 "metadata": {
  "kernelspec": {
   "display_name": "Python 3",
   "language": "python",
   "name": "python3"
  },
  "language_info": {
   "codemirror_mode": {
    "name": "ipython",
    "version": 3
   },
   "file_extension": ".py",
   "mimetype": "text/x-python",
   "name": "python",
   "nbconvert_exporter": "python",
   "pygments_lexer": "ipython3",
   "version": "3.11.2"
  },
  "orig_nbformat": 4
 },
 "nbformat": 4,
 "nbformat_minor": 2
}
