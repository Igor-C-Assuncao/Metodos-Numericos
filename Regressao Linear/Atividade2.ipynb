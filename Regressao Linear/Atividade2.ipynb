{
 "cells": [
  {
   "cell_type": "code",
   "execution_count": 2,
   "metadata": {},
   "outputs": [],
   "source": [
    "import matplotlib.pyplot as plt\n",
    "import pandas as pd\n",
    "\n",
    "from sklearn.datasets import fetch_california_housing\n",
    "from sklearn.model_selection import train_test_split\n",
    "from sklearn.linear_model import LinearRegression\n",
    "from sklearn.metrics import mean_squared_error, mean_absolute_error, r2_score\n",
    "\n",
    "import math"
   ]
  },
  {
   "cell_type": "code",
   "execution_count": 14,
   "metadata": {},
   "outputs": [
    {
     "data": {
      "text/html": [
       "<div>\n",
       "<style scoped>\n",
       "    .dataframe tbody tr th:only-of-type {\n",
       "        vertical-align: middle;\n",
       "    }\n",
       "\n",
       "    .dataframe tbody tr th {\n",
       "        vertical-align: top;\n",
       "    }\n",
       "\n",
       "    .dataframe thead th {\n",
       "        text-align: right;\n",
       "    }\n",
       "</style>\n",
       "<table border=\"1\" class=\"dataframe\">\n",
       "  <thead>\n",
       "    <tr style=\"text-align: right;\">\n",
       "      <th></th>\n",
       "      <th>X</th>\n",
       "      <th>Y</th>\n",
       "    </tr>\n",
       "  </thead>\n",
       "  <tbody>\n",
       "    <tr>\n",
       "      <th>0</th>\n",
       "      <td>0.2</td>\n",
       "      <td>1.5</td>\n",
       "    </tr>\n",
       "    <tr>\n",
       "      <th>1</th>\n",
       "      <td>2.7</td>\n",
       "      <td>1.8</td>\n",
       "    </tr>\n",
       "    <tr>\n",
       "      <th>2</th>\n",
       "      <td>4.5</td>\n",
       "      <td>3.1</td>\n",
       "    </tr>\n",
       "    <tr>\n",
       "      <th>3</th>\n",
       "      <td>5.9</td>\n",
       "      <td>2.6</td>\n",
       "    </tr>\n",
       "    <tr>\n",
       "      <th>4</th>\n",
       "      <td>7.2</td>\n",
       "      <td>3.6</td>\n",
       "    </tr>\n",
       "  </tbody>\n",
       "</table>\n",
       "</div>"
      ],
      "text/plain": [
       "     X    Y\n",
       "0  0.2  1.5\n",
       "1  2.7  1.8\n",
       "2  4.5  3.1\n",
       "3  5.9  2.6\n",
       "4  7.2  3.6"
      ]
     },
     "execution_count": 14,
     "metadata": {},
     "output_type": "execute_result"
    }
   ],
   "source": [
    "df = pd.read_csv('Pasta1.csv', delimiter= ';')\n",
    "\n",
    "#Visualizando tabela dos dados\n",
    "df.head()"
   ]
  },
  {
   "cell_type": "code",
   "execution_count": 21,
   "metadata": {},
   "outputs": [],
   "source": [
    "X = df.X\n",
    "y = df.Y"
   ]
  },
  {
   "cell_type": "code",
   "execution_count": 37,
   "metadata": {},
   "outputs": [],
   "source": [
    "data = []\n",
    "\n",
    "for i in range(len(df)):\n",
    "    \n",
    "\n",
    "    data.append([X[i],y[i]])"
   ]
  },
  {
   "cell_type": "code",
   "execution_count": 38,
   "metadata": {},
   "outputs": [
    {
     "name": "stdout",
     "output_type": "stream",
     "text": [
      "[[0.2, 1.5], [2.7, 1.8], [4.5, 3.1], [5.9, 2.6], [7.2, 3.6]]\n"
     ]
    }
   ],
   "source": [
    "print(data)"
   ]
  },
  {
   "cell_type": "code",
   "execution_count": 39,
   "metadata": {},
   "outputs": [
    {
     "name": "stdout",
     "output_type": "stream",
     "text": [
      "20.5\n",
      "12.6\n",
      "2.52\n",
      "2.52\n"
     ]
    }
   ],
   "source": [
    "# media de x e y \n",
    "\n",
    "somaX = 0\n",
    "somaY = 0 \n",
    "\n",
    "for point in data:\n",
    "    somaX += point[0]\n",
    "    somaY += point[1]\n",
    "mediaX = somaX / len(data)\n",
    "mediaY = somaY / len(data)\n",
    "\n",
    "print(somaX)\n",
    "print(somaY)\n",
    "print(mediaY)\n",
    "print(mediaY)\n",
    "\n",
    "\n",
    "\n"
   ]
  },
  {
   "cell_type": "code",
   "execution_count": 56,
   "metadata": {},
   "outputs": [
    {
     "name": "stdout",
     "output_type": "stream",
     "text": [
      " BetaI = 1.3367329357190192\n",
      " BetaII = 0.2886017229953612\n"
     ]
    }
   ],
   "source": [
    "numeratorB2 =0 \n",
    "denominatorB2 = 0\n",
    "for i in data:\n",
    "    numeratorB2 += (i[0] - mediaX) * (i[1] - mediaY)\n",
    "    denominatorB2 += math.pow(i[0] - mediaX, 2)\n",
    "beta2 = numeratorB2 / denominatorB2\n",
    "beta1 = mediaY - beta2 * mediaX\n",
    "\n",
    "\n",
    "print(f'  Ŷ = {mediaY} ')\n",
    "print(f' BetaI = {beta1}')\n",
    "print(f' BetaII = {beta2}')"
   ]
  },
  {
   "cell_type": "code",
   "execution_count": 65,
   "metadata": {},
   "outputs": [
    {
     "data": {
      "text/plain": [
       "[1.3944532803180913,\n",
       " 2.1159575878064945,\n",
       " 2.635440689198145,\n",
       " 3.0394831013916503,\n",
       " 3.4146653412856196]"
      ]
     },
     "execution_count": 65,
     "metadata": {},
     "output_type": "execute_result"
    }
   ],
   "source": [
    "Ŷ = []\n",
    "\n",
    "for point in data:\n",
    "    Ŷ.append( beta1 + beta2 * point[0])\n",
    "\n",
    "\n",
    "Ŷ"
   ]
  },
  {
   "cell_type": "code",
   "execution_count": 106,
   "metadata": {},
   "outputs": [
    {
     "name": "stdout",
     "output_type": "stream",
     "text": [
      " SQR = 0.55\n"
     ]
    }
   ],
   "source": [
    "# SQR\n",
    "\n",
    "sqr = 0\n",
    "\n",
    "for point in data:\n",
    "    predicted = beta2 * point[0] + beta1\n",
    "    sqr += math.pow(point[1] - predicted, 2)\n",
    "                    \n",
    "\n",
    "\n",
    "print(f' SQR = {sqr:.2f}')\n",
    "\n"
   ]
  },
  {
   "cell_type": "code",
   "execution_count": 79,
   "metadata": {},
   "outputs": [
    {
     "name": "stdout",
     "output_type": "stream",
     "text": [
      " R2 = 0.819\n"
     ]
    }
   ],
   "source": [
    "\n",
    "sst = 0\n",
    "for point in data:   \n",
    "    \n",
    "    sst += math.pow(point[1] - mediaY, 2)\n",
    "    \n",
    "r2 = 1 - sqr / sst\n",
    "\n",
    "\n",
    "print( f' R2 = {r2:.3f}')"
   ]
  },
  {
   "cell_type": "code",
   "execution_count": 109,
   "metadata": {},
   "outputs": [
    {
     "name": "stdout",
     "output_type": "stream",
     "text": [
      "AIC = -0.9976251724057654\n"
     ]
    }
   ],
   "source": [
    "# Critério  Akaike AIC\n",
    "num_parameters = len(df.columns)\n",
    "\n",
    "if (len(data)/num_parameters) > 40:\n",
    "    aic = len(data) * math.log(sqr / len(data)) + 2 * num_parameters\n",
    "else:\n",
    "    aic = len(data) * math.log(sqr / len(data)) + 2 * num_parameters * (len(data)/(len(data)-num_parameters-1))\n",
    "\n",
    "\n",
    "print(f'AIC = {aic}')"
   ]
  }
 ],
 "metadata": {
  "kernelspec": {
   "display_name": "Python 3",
   "language": "python",
   "name": "python3"
  },
  "language_info": {
   "codemirror_mode": {
    "name": "ipython",
    "version": 3
   },
   "file_extension": ".py",
   "mimetype": "text/x-python",
   "name": "python",
   "nbconvert_exporter": "python",
   "pygments_lexer": "ipython3",
   "version": "3.11.2"
  },
  "orig_nbformat": 4
 },
 "nbformat": 4,
 "nbformat_minor": 2
}
